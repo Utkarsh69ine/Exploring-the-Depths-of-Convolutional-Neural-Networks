{
 "cells": [
  {
   "attachments": {},
   "cell_type": "markdown",
   "metadata": {},
   "source": [
    "# Working MNIST , CIFAR-10 dataset"
   ]
  },
  {
   "cell_type": "code",
   "execution_count": 1,
   "metadata": {
    "id": "x4f_lwUS2teN"
   },
   "outputs": [],
   "source": [
    "import tensorflow as tf\n",
    "import numpy as np\n",
    "import matplotlib.pyplot as plt\n",
    "import pandas as pd\n",
    "from sklearn import metrics"
   ]
  },
  {
   "cell_type": "code",
   "execution_count": 2,
   "metadata": {
    "colab": {
     "base_uri": "https://localhost:8080/"
    },
    "id": "r_fbVFtg3R70",
    "outputId": "71e7d185-c673-4040-c112-faa2ff60b23c"
   },
   "outputs": [
    {
     "name": "stdout",
     "output_type": "stream",
     "text": [
      "Downloading data from https://storage.googleapis.com/tensorflow/tf-keras-datasets/mnist.npz\n",
      "11493376/11490434 [==============================] - 0s 0us/step\n",
      "11501568/11490434 [==============================] - 0s 0us/step\n"
     ]
    }
   ],
   "source": [
    "mnist = tf.keras.datasets.mnist\n",
    "(x_train,y_train),(x_test,y_test) = mnist.load_data()"
   ]
  },
  {
   "cell_type": "code",
   "execution_count": null,
   "metadata": {
    "colab": {
     "base_uri": "https://localhost:8080/"
    },
    "id": "CI9BfZfp51zh",
    "outputId": "bc258bdc-608a-4926-ea76-a3820f7f498e"
   },
   "outputs": [
    {
     "data": {
      "text/plain": [
       "array([0, 1, 2, 3, 4, 5, 6, 7, 8, 9], dtype=uint8)"
      ]
     },
     "execution_count": 10,
     "metadata": {},
     "output_type": "execute_result"
    }
   ],
   "source": [
    "np.unique(y_train)"
   ]
  },
  {
   "cell_type": "code",
   "execution_count": 3,
   "metadata": {
    "id": "7dH5q_1P8CcJ"
   },
   "outputs": [],
   "source": [
    "x_train = x_train/255.0\n",
    "x_test = x_test/255.0\n",
    "\n",
    "# Performing normalization"
   ]
  },
  {
   "cell_type": "code",
   "execution_count": 5,
   "metadata": {
    "colab": {
     "base_uri": "https://localhost:8080/"
    },
    "id": "tHT2xNnE8xsF",
    "outputId": "43a37efa-5cd9-4835-faa9-79e3379ebc8c"
   },
   "outputs": [
    {
     "name": "stdout",
     "output_type": "stream",
     "text": [
      "Model: \"sequential_1\"\n",
      "_________________________________________________________________\n",
      " Layer (type)                Output Shape              Param #   \n",
      "=================================================================\n",
      " conv2d_1 (Conv2D)           (None, 26, 26, 32)        320       \n",
      "                                                                 \n",
      " max_pooling2d (MaxPooling2D  (None, 13, 13, 32)       0         \n",
      " )                                                               \n",
      "                                                                 \n",
      " Input (Flatten)             (None, 5408)              0         \n",
      "                                                                 \n",
      " HiddenLayer1 (Dense)        (None, 100)               540900    \n",
      "                                                                 \n",
      " Output (Dense)              (None, 10)                1010      \n",
      "                                                                 \n",
      "=================================================================\n",
      "Total params: 542,230\n",
      "Trainable params: 542,230\n",
      "Non-trainable params: 0\n",
      "_________________________________________________________________\n"
     ]
    }
   ],
   "source": [
    "model = tf.keras.Sequential()\n",
    "model.add(tf.keras.Input(shape=(28,28,1)))\n",
    "model.add(tf.keras.layers.Conv2D(32, kernel_size=(3,3), activation=\"relu\", padding=\"valid\"))\n",
    "model.add(tf.keras.layers.MaxPooling2D(pool_size=(2,2), strides=2))\n",
    "model.add(tf.keras.layers.Flatten(name=\"Input\"))\n",
    "model.add(tf.keras.layers.Dense(100,activation=\"relu\", name=\"HiddenLayer1\"))\n",
    "model.add(tf.keras.layers.Dense(10,activation=\"softmax\", name=\"Output\"))\n",
    "model.summary()"
   ]
  },
  {
   "cell_type": "code",
   "execution_count": 6,
   "metadata": {
    "colab": {
     "base_uri": "https://localhost:8080/"
    },
    "id": "htvfarQ6AFrh",
    "outputId": "362815b5-9228-47d8-ebd9-b1913ec10d76"
   },
   "outputs": [
    {
     "name": "stdout",
     "output_type": "stream",
     "text": [
      "Epoch 1/10\n",
      "2400/2400 [==============================] - 18s 3ms/step - loss: 0.1625 - accuracy: 0.9515 - val_loss: 0.0727 - val_accuracy: 0.9787\n",
      "Epoch 2/10\n",
      "2400/2400 [==============================] - 8s 3ms/step - loss: 0.0556 - accuracy: 0.9831 - val_loss: 0.0575 - val_accuracy: 0.9830\n",
      "Epoch 3/10\n",
      "2400/2400 [==============================] - 7s 3ms/step - loss: 0.0351 - accuracy: 0.9893 - val_loss: 0.0589 - val_accuracy: 0.9833\n",
      "Epoch 4/10\n",
      "2400/2400 [==============================] - 7s 3ms/step - loss: 0.0233 - accuracy: 0.9925 - val_loss: 0.0628 - val_accuracy: 0.9826\n",
      "Epoch 5/10\n",
      "2400/2400 [==============================] - 7s 3ms/step - loss: 0.0165 - accuracy: 0.9946 - val_loss: 0.0558 - val_accuracy: 0.9848\n",
      "Epoch 6/10\n",
      "2400/2400 [==============================] - 7s 3ms/step - loss: 0.0106 - accuracy: 0.9963 - val_loss: 0.0605 - val_accuracy: 0.9856\n",
      "Epoch 7/10\n",
      "2400/2400 [==============================] - 7s 3ms/step - loss: 0.0072 - accuracy: 0.9976 - val_loss: 0.0722 - val_accuracy: 0.9838\n",
      "Epoch 8/10\n",
      "2400/2400 [==============================] - 7s 3ms/step - loss: 0.0087 - accuracy: 0.9971 - val_loss: 0.0576 - val_accuracy: 0.9873\n",
      "Epoch 9/10\n",
      "2400/2400 [==============================] - 7s 3ms/step - loss: 0.0040 - accuracy: 0.9989 - val_loss: 0.0763 - val_accuracy: 0.9832\n",
      "Epoch 10/10\n",
      "2400/2400 [==============================] - 7s 3ms/step - loss: 0.0047 - accuracy: 0.9985 - val_loss: 0.0705 - val_accuracy: 0.9872\n"
     ]
    }
   ],
   "source": [
    "model.compile(optimizer=\"adam\", loss=\"sparse_categorical_crossentropy\", metrics=[\"accuracy\"])\n",
    "cnn1 = model.fit(x_train,y_train,batch_size=20,epochs=10, validation_split=0.2)"
   ]
  },
  {
   "cell_type": "markdown",
   "metadata": {
    "id": "02U3Unu30QKz"
   },
   "source": [
    "Training Accuracy - 99.8%"
   ]
  },
  {
   "cell_type": "code",
   "execution_count": 9,
   "metadata": {
    "colab": {
     "base_uri": "https://localhost:8080/",
     "height": 573
    },
    "id": "kAAiKB-GcXcV",
    "outputId": "1e2116c2-fcf4-42d5-800a-89403dcf9e48"
   },
   "outputs": [
    {
     "data": {
      "image/png": "[encoded data removed]",
      "text/plain": [
       "<Figure size 432x288 with 1 Axes>"
      ]
     },
     "metadata": {
      "needs_background": "light"
     },
     "output_type": "display_data"
    },
    {
     "data": {
      "image/png": "[encoded data removed]",
      "text/plain": [
       "<Figure size 432x288 with 1 Axes>"
      ]
     },
     "metadata": {
      "needs_background": "light"
     },
     "output_type": "display_data"
    }
   ],
   "source": [
    "# Plotting and Visualising\n",
    "\n",
    "cnn1acc = cnn1.history[\"accuracy\"]\n",
    "cnn1val_acc = cnn1.history[\"val_accuracy\"]\n",
    "cnn1lss = cnn1.history[\"loss\"]\n",
    "cnn1val_lss = cnn1.history[\"val_loss\"]\n",
    "epochs_list = [1,2,3,4,5,6,7,8,9,10]\n",
    "\n",
    "#Accuracy Plot\n",
    "plt.plot(epochs_list, cnn1acc, 'blue', label='Training Accuracy')\n",
    "plt.plot(epochs_list, cnn1val_acc, 'red', label='Validation Accuracy')\n",
    "plt.xlabel('Epochs')\n",
    "plt.ylabel('Accuracy')\n",
    "plt.title('Accuracy curve with Epochs')\n",
    "\n",
    "plt.legend()\n",
    "plt.show()\n",
    "\n",
    "#Loss Plot\n",
    "plt.plot(epochs_list, cnn1lss, 'green', label=\"Loss\")\n",
    "plt.plot(epochs_list, cnn1val_lss, 'purple', label=\"Validation Loss\")\n",
    "plt.xlabel('Epochs')\n",
    "plt.ylabel('Loss')\n",
    "plt.title('Loss curve with Epochs')\n",
    "\n",
    "plt.legend()\n",
    "plt.show()"
   ]
  },
  {
   "cell_type": "code",
   "execution_count": 10,
   "metadata": {
    "colab": {
     "base_uri": "https://localhost:8080/"
    },
    "id": "rWiHuw_eJkWl",
    "outputId": "6fa4a3d9-5618-4768-8d78-3c73068518ad"
   },
   "outputs": [
    {
     "name": "stdout",
     "output_type": "stream",
     "text": [
      "313/313 [==============================] - 1s 3ms/step - loss: 0.0605 - accuracy: 0.9851\n"
     ]
    },
    {
     "data": {
      "text/plain": [
       "[0.06054028496146202, 0.9850999712944031]"
      ]
     },
     "execution_count": 10,
     "metadata": {},
     "output_type": "execute_result"
    }
   ],
   "source": [
    "modeleval = model.evaluate(x_test,y_test)\n",
    "modeleval"
   ]
  },
  {
   "cell_type": "markdown",
   "metadata": {
    "id": "QHXvE_w_0bpy"
   },
   "source": [
    "Test Accuracy - 98.51%"
   ]
  },
  {
   "cell_type": "code",
   "execution_count": 11,
   "metadata": {
    "colab": {
     "base_uri": "https://localhost:8080/"
    },
    "id": "N7pBlH9tzecu",
    "outputId": "cfcb5f8c-4708-48dd-b4f6-0826a6921291"
   },
   "outputs": [
    {
     "data": {
      "text/plain": [
       "array([[1.9013476e-15, 2.5702292e-14, 2.2118897e-13, ..., 1.0000000e+00,\n",
       "        5.2209701e-15, 5.8828333e-13],\n",
       "       [5.1369933e-13, 5.3159827e-10, 1.0000000e+00, ..., 2.1663474e-19,\n",
       "        7.1455059e-16, 9.1620116e-21],\n",
       "       [1.7137559e-08, 9.9999893e-01, 1.2367900e-08, ..., 1.6648312e-07,\n",
       "        1.0096548e-07, 6.5716932e-11],\n",
       "       ...,\n",
       "       [1.9607253e-20, 7.2672288e-16, 1.3631878e-15, ..., 4.8448962e-13,\n",
       "        7.1890230e-11, 5.9948674e-10],\n",
       "       [3.2572551e-16, 7.6385864e-19, 2.5973267e-23, ..., 7.8634897e-20,\n",
       "        2.4104027e-10, 2.9677013e-15],\n",
       "       [4.7886567e-15, 2.0331221e-21, 1.3133317e-16, ..., 6.6082338e-24,\n",
       "        1.2301190e-16, 8.0755519e-21]], dtype=float32)"
      ]
     },
     "execution_count": 11,
     "metadata": {},
     "output_type": "execute_result"
    }
   ],
   "source": [
    "y_pred= model.predict(x_test)\n",
    "y_pred"
   ]
  },
  {
   "cell_type": "markdown",
   "metadata": {
    "id": "i3tlPmQ671RB"
   },
   "source": [
    "What is Lenet-5 Architecture?"
   ]
  },
  {
   "cell_type": "markdown",
   "metadata": {
    "id": "iI3TjX1P7yu7"
   },
   "source": [
    "**First Layer: Convolutional Layer (CONV1):**\n",
    "\n",
    "Parameters: Input (N) = 28, Padding (P) = 2, Filter (F) = 5 x 5, Stride (S) = 1\n",
    "Conv Operation: ((N + 2P - F) / S) + 1 = ((28 + 4 - 5) / 1) + 1 = 28 x 28\n",
    "We will apply 6 filters / kernels so we will get a 28 x 28 x 6 dimensional output\n",
    "\n",
    "**Second Layer: Average Pooling Layer (POOL1):**\n",
    "\n",
    "Parameters: Input (N) = 28, Filter (F) = 2 x 2, Stride (S) = 2\n",
    "AVG Pooling Operation: ((N + 2P -F) / S) + 1 = ((28 - 2) / 2) + 1 = 14 x 14\n",
    "We will have a 14 x 14 x 6 dimensional output at the end of this pooling\n",
    "\n",
    "**Third Layer: Convolutional Layer (CONV2):**\n",
    "\n",
    "Parameters: Input (N) = 14, Filter (F) = 5 x 5, Stride (S) = 1\n",
    "Conv Operation: ((N + 2P - F) / S) + 1 = ((14 - 5) / 1) + 1 = 10 x 10\n",
    "We will apply 16 filters / kernels so we will get a 10 x 10 x 16 dimensional output\n",
    "\n",
    "**Fourth Layer: Average Pooling Layer (POOL2):**\n",
    "\n",
    "Parameters: Input (N) = 10, Filter (F) = 2 x 2, Stride (S) = 2\n",
    "AVG Pooling Operation: ((N + 2P -F) / S) + 1 = ((10 - 2) / 2) + 1 = 5 x 5\n",
    "We will have a 5 x 5 x 16 dimensional output at the end of this pooling\n",
    "\n",
    "**Fifth Layer: Fully Connected layer(FC1):**\n",
    "\n",
    "Parameters: W: 400 * 120, b: 120\n",
    "We will have an output of 120 x 1 dimension\n",
    "\n",
    "**Sixth Layer: Fully Connected layer(FC2):**\n",
    "\n",
    "Parameters: W: 120 * 84, b: 84\n",
    "We will have an output of 84 x 1 dimension\n",
    "\n",
    "**Seventh Layer: Output layer(Softmax):**\n",
    "\n",
    "Parameters: W: 84 * 10, b: 10\n",
    "We will get an output of 10 x 1 dimension"
   ]
  },
  {
   "cell_type": "code",
   "execution_count": 12,
   "metadata": {
    "colab": {
     "base_uri": "https://localhost:8080/"
    },
    "id": "kJQXn9l96hR7",
    "outputId": "f1a43256-3adb-4023-d9b2-99a938886133"
   },
   "outputs": [
    {
     "name": "stdout",
     "output_type": "stream",
     "text": [
      "Model: \"sequential_2\"\n",
      "_________________________________________________________________\n",
      " Layer (type)                Output Shape              Param #   \n",
      "=================================================================\n",
      " ConvolutionalLayer1 (Conv2D  (None, 28, 28, 6)        156       \n",
      " )                                                               \n",
      "                                                                 \n",
      " AveragePooling1 (AveragePoo  (None, 14, 14, 6)        0         \n",
      " ling2D)                                                         \n",
      "                                                                 \n",
      " ConvolutionalLayer2 (Conv2D  (None, 10, 10, 16)       2416      \n",
      " )                                                               \n",
      "                                                                 \n",
      " AveragePooling2 (AveragePoo  (None, 5, 5, 16)         0         \n",
      " ling2D)                                                         \n",
      "                                                                 \n",
      " Input (Flatten)             (None, 400)               0         \n",
      "                                                                 \n",
      " HiddenLayer1 (Dense)        (None, 120)               48120     \n",
      "                                                                 \n",
      " HiddenLayer2 (Dense)        (None, 84)                10164     \n",
      "                                                                 \n",
      " Output (Dense)              (None, 10)                850       \n",
      "                                                                 \n",
      "=================================================================\n",
      "Total params: 61,706\n",
      "Trainable params: 61,706\n",
      "Non-trainable params: 0\n",
      "_________________________________________________________________\n"
     ]
    }
   ],
   "source": [
    "lenet5 = tf.keras.Sequential()\n",
    "lenet5.add(tf.keras.Input(shape=(28,28,1)))\n",
    "lenet5.add(tf.keras.layers.Conv2D(6, kernel_size=(5, 5), activation='tanh', padding=\"same\", name=\"ConvolutionalLayer1\"))\n",
    "lenet5.add(tf.keras.layers.AveragePooling2D(pool_size=(2,2), strides=2, name=\"AveragePooling1\"))\n",
    "lenet5.add(tf.keras.layers.Conv2D(16,kernel_size=(5, 5), activation='tanh', name=\"ConvolutionalLayer2\"))\n",
    "lenet5.add(tf.keras.layers.AveragePooling2D(pool_size=(2,2), strides=2, name=\"AveragePooling2\"))\n",
    "lenet5.add(tf.keras.layers.Flatten(name=\"Input\"))\n",
    "lenet5.add(tf.keras.layers.Dense(units=120, activation='tanh', name=\"HiddenLayer1\"))\n",
    "lenet5.add(tf.keras.layers.Dense(units=84, activation='tanh', name=\"HiddenLayer2\"))\n",
    "lenet5.add(tf.keras.layers.Dense(units=10, activation = 'softmax', name=\"Output\"))\n",
    "lenet5.summary()"
   ]
  },
  {
   "cell_type": "code",
   "execution_count": 14,
   "metadata": {
    "colab": {
     "base_uri": "https://localhost:8080/"
    },
    "id": "c5D4qpdu69AI",
    "outputId": "4166f76e-ba8b-4892-83ba-a7ff0a0c5ea1"
   },
   "outputs": [
    {
     "name": "stdout",
     "output_type": "stream",
     "text": [
      "Epoch 1/10\n",
      "1920/1920 [==============================] - 7s 3ms/step - loss: 0.2373 - accuracy: 0.9290 - val_loss: 0.1215 - val_accuracy: 0.9624\n",
      "Epoch 2/10\n",
      "1920/1920 [==============================] - 7s 3ms/step - loss: 0.0903 - accuracy: 0.9724 - val_loss: 0.0730 - val_accuracy: 0.9783\n",
      "Epoch 3/10\n",
      "1920/1920 [==============================] - 7s 4ms/step - loss: 0.0611 - accuracy: 0.9811 - val_loss: 0.0604 - val_accuracy: 0.9822\n",
      "Epoch 4/10\n",
      "1920/1920 [==============================] - 7s 3ms/step - loss: 0.0473 - accuracy: 0.9855 - val_loss: 0.0602 - val_accuracy: 0.9826\n",
      "Epoch 5/10\n",
      "1920/1920 [==============================] - 7s 3ms/step - loss: 0.0375 - accuracy: 0.9882 - val_loss: 0.0565 - val_accuracy: 0.9806\n",
      "Epoch 6/10\n",
      "1920/1920 [==============================] - 6s 3ms/step - loss: 0.0311 - accuracy: 0.9901 - val_loss: 0.0565 - val_accuracy: 0.9840\n",
      "Epoch 7/10\n",
      "1920/1920 [==============================] - 7s 4ms/step - loss: 0.0255 - accuracy: 0.9919 - val_loss: 0.0555 - val_accuracy: 0.9842\n",
      "Epoch 8/10\n",
      "1920/1920 [==============================] - 7s 3ms/step - loss: 0.0226 - accuracy: 0.9923 - val_loss: 0.0619 - val_accuracy: 0.9828\n",
      "Epoch 9/10\n",
      "1920/1920 [==============================] - 6s 3ms/step - loss: 0.0202 - accuracy: 0.9932 - val_loss: 0.0547 - val_accuracy: 0.9845\n",
      "Epoch 10/10\n",
      "1920/1920 [==============================] - 7s 3ms/step - loss: 0.0178 - accuracy: 0.9940 - val_loss: 0.0563 - val_accuracy: 0.9843\n"
     ]
    }
   ],
   "source": [
    "lenet5.compile(optimizer=\"adam\", loss=\"sparse_categorical_crossentropy\", metrics=[\"accuracy\"])\n",
    "a = lenet5.fit(x_train,y_train,batch_size=25,epochs=10, validation_split=0.2)"
   ]
  },
  {
   "cell_type": "markdown",
   "metadata": {
    "id": "Si9gpZPmAR6R"
   },
   "source": [
    "Lenet-5 Training Accuracy - 99.4%"
   ]
  },
  {
   "cell_type": "code",
   "execution_count": 15,
   "metadata": {
    "colab": {
     "base_uri": "https://localhost:8080/",
     "height": 573
    },
    "id": "QtxHRpxSD3jl",
    "outputId": "4109839e-b551-4cf5-83a3-f123cb0ff805"
   },
   "outputs": [
    {
     "data": {
      "image/png": "[encoded data removed]",
      "text/plain": [
       "<Figure size 432x288 with 1 Axes>"
      ]
     },
     "metadata": {
      "needs_background": "light"
     },
     "output_type": "display_data"
    },
    {
     "data": {
      "image/png": "[encoded data removed]",
      "text/plain": [
       "<Figure size 432x288 with 1 Axes>"
      ]
     },
     "metadata": {
      "needs_background": "light"
     },
     "output_type": "display_data"
    }
   ],
   "source": [
    "# Plotting and Visualising\n",
    "\n",
    "l5acc = a.history[\"accuracy\"]\n",
    "l5val_acc = a.history[\"val_accuracy\"]\n",
    "l5lss = a.history[\"loss\"]\n",
    "l5val_lss = a.history[\"val_loss\"]\n",
    "epochs_list = [1,2,3,4,5,6,7,8,9,10]\n",
    "\n",
    "plt.plot(epochs_list, l5acc, 'blue', label='Training Accuracy')\n",
    "plt.plot(epochs_list, l5val_acc, 'red', label='Validation Accuracy')\n",
    "plt.xlabel('Epochs')\n",
    "plt.ylabel('Accuracy')\n",
    "plt.title('Accuracy curve with Epochs')\n",
    "plt.legend()\n",
    "plt.show()\n",
    "\n",
    "#Loss Plot\n",
    "plt.plot(epochs_list, l5lss, 'green', label=\"Loss\")\n",
    "plt.plot(epochs_list, l5val_lss, 'purple', label=\"Validation Loss\")\n",
    "plt.xlabel('Epochs')\n",
    "plt.ylabel('Loss')\n",
    "plt.title('Loss curve with Epochs')\n",
    "plt.legend()\n",
    "plt.show()"
   ]
  },
  {
   "cell_type": "code",
   "execution_count": 16,
   "metadata": {
    "colab": {
     "base_uri": "https://localhost:8080/"
    },
    "id": "c-YYmHIf9Ic4",
    "outputId": "5aafca31-43d9-4216-8acc-4d2295a0cb0d"
   },
   "outputs": [
    {
     "name": "stdout",
     "output_type": "stream",
     "text": [
      "313/313 [==============================] - 1s 3ms/step - loss: 0.0446 - accuracy: 0.9871\n"
     ]
    },
    {
     "data": {
      "text/plain": [
       "[0.044595468789339066, 0.9871000051498413]"
      ]
     },
     "execution_count": 16,
     "metadata": {},
     "output_type": "execute_result"
    }
   ],
   "source": [
    "lenet5.evaluate(x_test,y_test)"
   ]
  },
  {
   "cell_type": "markdown",
   "metadata": {
    "id": "ly0r2j20AWep"
   },
   "source": [
    "Lenet-5 Testing Accuracy - 98.7%"
   ]
  },
  {
   "cell_type": "code",
   "execution_count": 17,
   "metadata": {
    "colab": {
     "base_uri": "https://localhost:8080/"
    },
    "id": "f6Maphj9_kyA",
    "outputId": "efa41b2b-e3cd-45cc-ae62-c0e7b3e298cd"
   },
   "outputs": [
    {
     "data": {
      "text/plain": [
       "array([[2.3113571e-09, 1.7011837e-08, 2.1309685e-08, ..., 9.9999833e-01,\n",
       "        1.2623258e-08, 1.2945331e-06],\n",
       "       [2.6489490e-06, 8.8281762e-05, 9.9990571e-01, ..., 5.7414778e-10,\n",
       "        1.1168388e-06, 6.5689537e-10],\n",
       "       [6.0849345e-08, 9.9998438e-01, 5.2189165e-08, ..., 1.3127226e-05,\n",
       "        6.8898009e-07, 9.3992825e-10],\n",
       "       ...,\n",
       "       [2.6523663e-09, 2.4237330e-09, 4.2743690e-07, ..., 8.4316065e-07,\n",
       "        2.6047226e-06, 7.1104009e-06],\n",
       "       [1.5479894e-07, 1.8772552e-09, 5.9039146e-10, ..., 1.0015051e-08,\n",
       "        5.1581002e-05, 9.7580298e-08],\n",
       "       [7.8148804e-07, 1.3385465e-09, 5.4947307e-08, ..., 3.5214009e-11,\n",
       "        4.7770038e-07, 1.6210322e-09]], dtype=float32)"
      ]
     },
     "execution_count": 17,
     "metadata": {},
     "output_type": "execute_result"
    }
   ],
   "source": [
    "y_pred_lenet5 = lenet5.predict(x_test)\n",
    "y_pred_lenet5"
   ]
  },
  {
   "cell_type": "markdown",
   "metadata": {
    "id": "x6MpreIzKqrL"
   },
   "source": [
    "Applying both models on cifar10 dataset"
   ]
  },
  {
   "cell_type": "code",
   "execution_count": 32,
   "metadata": {
    "id": "jnHBBo9fI2G5"
   },
   "outputs": [],
   "source": [
    "cifar10 = tf.keras.datasets.cifar10\n",
    "(x_train,y_train),(x_test,y_test) = cifar10.load_data()"
   ]
  },
  {
   "cell_type": "code",
   "execution_count": 34,
   "metadata": {
    "colab": {
     "base_uri": "https://localhost:8080/"
    },
    "id": "ADMKLTkFKvXa",
    "outputId": "b17bed0c-413f-4488-ce00-73d096338a5e"
   },
   "outputs": [
    {
     "name": "stdout",
     "output_type": "stream",
     "text": [
      "Model: \"sequential_7\"\n",
      "_________________________________________________________________\n",
      " Layer (type)                Output Shape              Param #   \n",
      "=================================================================\n",
      " conv2d_5 (Conv2D)           (None, 30, 30, 32)        896       \n",
      "                                                                 \n",
      " max_pooling2d_4 (MaxPooling  (None, 15, 15, 32)       0         \n",
      " 2D)                                                             \n",
      "                                                                 \n",
      " Input (Flatten)             (None, 7200)              0         \n",
      "                                                                 \n",
      " HiddenLayer1 (Dense)        (None, 100)               720100    \n",
      "                                                                 \n",
      " Output (Dense)              (None, 10)                1010      \n",
      "                                                                 \n",
      "=================================================================\n",
      "Total params: 722,006\n",
      "Trainable params: 722,006\n",
      "Non-trainable params: 0\n",
      "_________________________________________________________________\n",
      "Epoch 1/15\n",
      "1600/1600 [==============================] - 6s 4ms/step - loss: 4.9206 - accuracy: 0.3192 - val_loss: 1.8594 - val_accuracy: 0.3802\n",
      "Epoch 2/15\n",
      "1600/1600 [==============================] - 5s 3ms/step - loss: 1.5777 - accuracy: 0.4492 - val_loss: 1.6238 - val_accuracy: 0.4414\n",
      "Epoch 3/15\n",
      "1600/1600 [==============================] - 5s 3ms/step - loss: 1.4404 - accuracy: 0.4948 - val_loss: 1.5476 - val_accuracy: 0.4658\n",
      "Epoch 4/15\n",
      "1600/1600 [==============================] - 5s 3ms/step - loss: 1.3263 - accuracy: 0.5339 - val_loss: 1.4825 - val_accuracy: 0.4852\n",
      "Epoch 5/15\n",
      "1600/1600 [==============================] - 5s 3ms/step - loss: 1.2472 - accuracy: 0.5615 - val_loss: 1.4528 - val_accuracy: 0.5170\n",
      "Epoch 6/15\n",
      "1600/1600 [==============================] - 5s 3ms/step - loss: 1.1627 - accuracy: 0.5904 - val_loss: 1.4484 - val_accuracy: 0.5166\n",
      "Epoch 7/15\n",
      "1600/1600 [==============================] - 5s 3ms/step - loss: 1.1118 - accuracy: 0.6108 - val_loss: 1.4772 - val_accuracy: 0.5305\n",
      "Epoch 8/15\n",
      "1600/1600 [==============================] - 5s 3ms/step - loss: 1.0492 - accuracy: 0.6342 - val_loss: 1.4237 - val_accuracy: 0.5360\n",
      "Epoch 9/15\n",
      "1600/1600 [==============================] - 6s 4ms/step - loss: 0.9962 - accuracy: 0.6529 - val_loss: 1.3809 - val_accuracy: 0.5627\n",
      "Epoch 10/15\n",
      "1600/1600 [==============================] - 5s 3ms/step - loss: 0.9491 - accuracy: 0.6685 - val_loss: 1.6272 - val_accuracy: 0.5284\n",
      "Epoch 11/15\n",
      "1600/1600 [==============================] - 5s 3ms/step - loss: 0.9086 - accuracy: 0.6837 - val_loss: 1.5683 - val_accuracy: 0.5496\n",
      "Epoch 12/15\n",
      "1600/1600 [==============================] - 5s 3ms/step - loss: 0.8722 - accuracy: 0.6959 - val_loss: 1.5558 - val_accuracy: 0.5461\n",
      "Epoch 13/15\n",
      "1600/1600 [==============================] - 6s 3ms/step - loss: 0.8324 - accuracy: 0.7108 - val_loss: 1.5870 - val_accuracy: 0.5565\n",
      "Epoch 14/15\n",
      "1600/1600 [==============================] - 5s 3ms/step - loss: 0.8015 - accuracy: 0.7201 - val_loss: 1.6843 - val_accuracy: 0.5405\n",
      "Epoch 15/15\n",
      "1600/1600 [==============================] - 5s 3ms/step - loss: 0.7567 - accuracy: 0.7348 - val_loss: 1.6344 - val_accuracy: 0.5442\n"
     ]
    }
   ],
   "source": [
    "cifar10model = tf.keras.Sequential()\n",
    "cifar10model.add(tf.keras.Input(shape=(32,32,3)))\n",
    "cifar10model.add(tf.keras.layers.Conv2D(32, kernel_size=(3,3), activation=\"relu\", padding=\"valid\"))\n",
    "cifar10model.add(tf.keras.layers.MaxPooling2D(pool_size=(2,2), strides=2))\n",
    "cifar10model.add(tf.keras.layers.Flatten(name=\"Input\"))\n",
    "cifar10model.add(tf.keras.layers.Dense(100,activation=\"relu\", name=\"HiddenLayer1\"))\n",
    "cifar10model.add(tf.keras.layers.Dense(10,activation=\"softmax\", name=\"Output\"))\n",
    "cifar10model.summary()\n",
    "cifar10model.compile(optimizer=\"adam\", loss=\"sparse_categorical_crossentropy\", metrics=[\"accuracy\"])\n",
    "cifar10plot = cifar10model.fit(x_train,y_train,batch_size=25,epochs=15, validation_split=0.2)"
   ]
  },
  {
   "cell_type": "markdown",
   "metadata": {
    "id": "i7DrSjy7hLzB"
   },
   "source": [
    "Training Accuracy = 73.48%"
   ]
  },
  {
   "cell_type": "code",
   "execution_count": 36,
   "metadata": {
    "colab": {
     "base_uri": "https://localhost:8080/",
     "height": 573
    },
    "id": "LnTMgaHAgsnK",
    "outputId": "b3ce7830-c912-4c6b-d1bb-c5c766b2eddf"
   },
   "outputs": [
    {
     "data": {
      "image/png": "[encoded data removed]",
      "text/plain": [
       "<Figure size 432x288 with 1 Axes>"
      ]
     },
     "metadata": {
      "needs_background": "light"
     },
     "output_type": "display_data"
    },
    {
     "data": {
      "image/png": "[encoded data removed]",
      "text/plain": [
       "<Figure size 432x288 with 1 Axes>"
      ]
     },
     "metadata": {
      "needs_background": "light"
     },
     "output_type": "display_data"
    }
   ],
   "source": [
    "# Plotting and Visualising\n",
    "\n",
    "cifar10acc = cifar10plot.history[\"accuracy\"]\n",
    "cifar10val_acc = cifar10plot.history[\"val_accuracy\"]\n",
    "cifar10lss = cifar10plot.history[\"loss\"]\n",
    "cifar10val_lss = cifar10plot.history[\"val_loss\"]\n",
    "epochs_list = [1,2,3,4,5,6,7,8,9,10,11,12,13,14,15]\n",
    "\n",
    "plt.plot(epochs_list, cifar10acc, 'blue', label='Training Accuracy')\n",
    "plt.plot(epochs_list, cifar10val_acc, 'red', label='Validation Accuracy')\n",
    "plt.xlabel('Epochs')\n",
    "plt.ylabel('Accuracy')\n",
    "plt.title('Accuracy curve with Epochs')\n",
    "plt.legend()\n",
    "plt.show()\n",
    "\n",
    "#Loss Plot\n",
    "plt.plot(epochs_list, cifar10lss, 'green', label=\"Loss\")\n",
    "plt.plot(epochs_list, cifar10val_lss, 'purple', label=\"Validation Loss\")\n",
    "plt.xlabel('Epochs')\n",
    "plt.ylabel('Loss')\n",
    "plt.title('Loss curve with Epochs')\n",
    "plt.legend()\n",
    "plt.show()"
   ]
  },
  {
   "cell_type": "code",
   "execution_count": 37,
   "metadata": {
    "colab": {
     "base_uri": "https://localhost:8080/"
    },
    "id": "NBb51fBbLhBq",
    "outputId": "53b9351e-a380-40d3-fa11-a637a8631f26"
   },
   "outputs": [
    {
     "name": "stdout",
     "output_type": "stream",
     "text": [
      "313/313 [==============================] - 1s 3ms/step - loss: 1.6472 - accuracy: 0.5408\n"
     ]
    },
    {
     "data": {
      "text/plain": [
       "[1.6471798419952393, 0.5407999753952026]"
      ]
     },
     "execution_count": 37,
     "metadata": {},
     "output_type": "execute_result"
    }
   ],
   "source": [
    "cifar10model.evaluate(x_test,y_test)"
   ]
  },
  {
   "cell_type": "markdown",
   "metadata": {
    "id": "E97ruEh4hStB"
   },
   "source": [
    "Testing Accuracy = 54.08%"
   ]
  },
  {
   "cell_type": "code",
   "execution_count": 38,
   "metadata": {
    "colab": {
     "base_uri": "https://localhost:8080/"
    },
    "id": "GeUqVwRtLnTx",
    "outputId": "3c0a9c18-a6c5-4a66-f418-8e640d96b6e8"
   },
   "outputs": [
    {
     "data": {
      "text/plain": [
       "array([[2.2130237e-04, 2.3866865e-04, 1.9053711e-06, ..., 1.0278759e-07,\n",
       "        1.5760481e-04, 8.1760305e-07],\n",
       "       [4.7220397e-03, 1.6155913e-02, 6.4431491e-09, ..., 5.8567547e-11,\n",
       "        9.7886068e-01, 2.6122073e-04],\n",
       "       [7.6927519e-01, 1.2549697e-02, 3.0323949e-02, ..., 8.3729744e-02,\n",
       "        8.0878399e-02, 1.5318447e-02],\n",
       "       ...,\n",
       "       [1.1354546e-05, 1.6716098e-05, 1.6553296e-01, ..., 1.1803312e-01,\n",
       "        5.5671939e-05, 2.1662316e-05],\n",
       "       [4.9015526e-02, 8.1241578e-03, 4.6013158e-02, ..., 1.8128265e-02,\n",
       "        2.8996404e-02, 5.0991420e-03],\n",
       "       [1.5057267e-05, 2.7282402e-07, 1.7705288e-03, ..., 9.8410058e-01,\n",
       "        5.4744345e-07, 1.2548949e-06]], dtype=float32)"
      ]
     },
     "execution_count": 38,
     "metadata": {},
     "output_type": "execute_result"
    }
   ],
   "source": [
    "y_pred_cifar10 = cifar10model.predict(x_test)\n",
    "y_pred_cifar10"
   ]
  },
  {
   "cell_type": "markdown",
   "metadata": {
    "id": "OKpDmye3L4H5"
   },
   "source": [
    "Applying LeNet-5 architecture on cifar10"
   ]
  },
  {
   "cell_type": "code",
   "execution_count": 24,
   "metadata": {
    "colab": {
     "base_uri": "https://localhost:8080/"
    },
    "id": "8zcmeDMSJAa5",
    "outputId": "654316b6-2027-4584-b661-816d08ef0501"
   },
   "outputs": [
    {
     "name": "stdout",
     "output_type": "stream",
     "text": [
      "Model: \"sequential_5\"\n",
      "_________________________________________________________________\n",
      " Layer (type)                Output Shape              Param #   \n",
      "=================================================================\n",
      " ConvolutionalLayer1 (Conv2D  (None, 32, 32, 6)        456       \n",
      " )                                                               \n",
      "                                                                 \n",
      " AveragePooling1 (AveragePoo  (None, 16, 16, 6)        0         \n",
      " ling2D)                                                         \n",
      "                                                                 \n",
      " ConvolutionalLayer2 (Conv2D  (None, 12, 12, 16)       2416      \n",
      " )                                                               \n",
      "                                                                 \n",
      " AveragePooling2 (AveragePoo  (None, 6, 6, 16)         0         \n",
      " ling2D)                                                         \n",
      "                                                                 \n",
      " Input (Flatten)             (None, 576)               0         \n",
      "                                                                 \n",
      " HiddenLayer1 (Dense)        (None, 120)               69240     \n",
      "                                                                 \n",
      " HiddenLayer2 (Dense)        (None, 84)                10164     \n",
      "                                                                 \n",
      " Output (Dense)              (None, 10)                850       \n",
      "                                                                 \n",
      "=================================================================\n",
      "Total params: 83,126\n",
      "Trainable params: 83,126\n",
      "Non-trainable params: 0\n",
      "_________________________________________________________________\n"
     ]
    }
   ],
   "source": [
    "lenet5cifar10model = tf.keras.Sequential()\n",
    "lenet5cifar10model.add(tf.keras.Input(shape=(32,32,3)))\n",
    "lenet5cifar10model.add(tf.keras.layers.Conv2D(6, kernel_size=(5, 5), activation='tanh', padding=\"same\", name=\"ConvolutionalLayer1\"))\n",
    "lenet5cifar10model.add(tf.keras.layers.AveragePooling2D(pool_size=(2,2), strides=2, name=\"AveragePooling1\"))\n",
    "lenet5cifar10model.add(tf.keras.layers.Conv2D(16,kernel_size=(5, 5), activation='tanh', name=\"ConvolutionalLayer2\"))\n",
    "lenet5cifar10model.add(tf.keras.layers.AveragePooling2D(pool_size=(2,2), strides=2, name=\"AveragePooling2\"))\n",
    "lenet5cifar10model.add(tf.keras.layers.Flatten(name=\"Input\"))\n",
    "lenet5cifar10model.add(tf.keras.layers.Dense(units=120, activation='tanh', name=\"HiddenLayer1\"))\n",
    "lenet5cifar10model.add(tf.keras.layers.Dense(units=84, activation='tanh', name=\"HiddenLayer2\"))\n",
    "lenet5cifar10model.add(tf.keras.layers.Dense(units=10, activation = 'softmax', name=\"Output\"))\n",
    "lenet5cifar10model.summary()"
   ]
  },
  {
   "cell_type": "code",
   "execution_count": 43,
   "metadata": {
    "colab": {
     "base_uri": "https://localhost:8080/"
    },
    "id": "WMHhFxCAJOMl",
    "outputId": "8082e0b8-fc39-41ca-e92d-4a14e2bae734"
   },
   "outputs": [
    {
     "name": "stdout",
     "output_type": "stream",
     "text": [
      "Epoch 1/5\n",
      "1600/1600 [==============================] - 6s 4ms/step - loss: 0.4722 - accuracy: 0.8324 - val_loss: 2.2552 - val_accuracy: 0.4947\n",
      "Epoch 2/5\n",
      "1600/1600 [==============================] - 5s 3ms/step - loss: 0.4161 - accuracy: 0.8536 - val_loss: 2.2610 - val_accuracy: 0.4942\n",
      "Epoch 3/5\n",
      "1600/1600 [==============================] - 6s 4ms/step - loss: 0.4637 - accuracy: 0.8360 - val_loss: 2.2584 - val_accuracy: 0.4964\n",
      "Epoch 4/5\n",
      "1600/1600 [==============================] - 5s 3ms/step - loss: 0.4304 - accuracy: 0.8486 - val_loss: 2.2582 - val_accuracy: 0.4951\n",
      "Epoch 5/5\n",
      "1600/1600 [==============================] - 5s 3ms/step - loss: 0.4354 - accuracy: 0.8477 - val_loss: 2.2517 - val_accuracy: 0.4962\n"
     ]
    }
   ],
   "source": [
    "lenet5cifar10model.compile(optimizer=\"adam\", loss=\"sparse_categorical_crossentropy\", metrics=[\"accuracy\"])\n",
    "c = lenet5cifar10model.fit(x_train,y_train,batch_size=25,epochs=5, validation_split=0.2)"
   ]
  },
  {
   "cell_type": "markdown",
   "metadata": {
    "id": "xXONCEh9iJuW"
   },
   "source": [
    "Training Accuracy = 84.77%"
   ]
  },
  {
   "cell_type": "code",
   "execution_count": 44,
   "metadata": {
    "colab": {
     "base_uri": "https://localhost:8080/",
     "height": 573
    },
    "id": "tVTWWE_TJ63r",
    "outputId": "11ca31fd-2c88-4b79-99c8-e0ddcfbf65f2"
   },
   "outputs": [
    {
     "data": {
      "image/png": "[encoded data removed]",
      "text/plain": [
       "<Figure size 432x288 with 1 Axes>"
      ]
     },
     "metadata": {
      "needs_background": "light"
     },
     "output_type": "display_data"
    },
    {
     "data": {
      "image/png": "[encoded data removed]",
      "text/plain": [
       "<Figure size 432x288 with 1 Axes>"
      ]
     },
     "metadata": {
      "needs_background": "light"
     },
     "output_type": "display_data"
    }
   ],
   "source": [
    "# Plotting and Visualising\n",
    "\n",
    "lenet5cifar10acc = c.history[\"accuracy\"]\n",
    "lenet5cifar10val_acc = c.history[\"val_accuracy\"]\n",
    "lenet5cifar10lss = c.history[\"loss\"]\n",
    "lenet5cifar10val_lss = c.history[\"val_loss\"]\n",
    "epochs_list = [1,2,3,4,5]\n",
    "\n",
    "#Accuracy Plot\n",
    "plt.plot(epochs_list, lenet5cifar10acc, 'blue', label='Training Accuracy')\n",
    "plt.plot(epochs_list, lenet5cifar10val_acc, 'red', label='Validation Accuracy')\n",
    "plt.xlabel('Epochs')\n",
    "plt.ylabel('Accuracy')\n",
    "plt.title('Accuracy curve with Epochs')\n",
    "plt.legend()\n",
    "plt.show()\n",
    "\n",
    "#Loss PLot\n",
    "plt.plot(epochs_list, lenet5cifar10lss, 'green', label=\"Loss\")\n",
    "plt.plot(epochs_list, lenet5cifar10val_lss, 'purple', label=\"Validation Loss\")\n",
    "plt.xlabel('Epochs')\n",
    "plt.ylabel('Loss')\n",
    "plt.title('Loss curve with Epochs')\n",
    "plt.legend()\n",
    "plt.show()"
   ]
  },
  {
   "cell_type": "markdown",
   "metadata": {
    "id": "Ea5IPvnbnFoA"
   },
   "source": [
    "This is the case of Overfitting"
   ]
  },
  {
   "cell_type": "code",
   "execution_count": 45,
   "metadata": {
    "colab": {
     "base_uri": "https://localhost:8080/"
    },
    "id": "6eOjmf8KKFjC",
    "outputId": "6cf67022-7df8-4eab-c2e5-756e98f6aa7f"
   },
   "outputs": [
    {
     "name": "stdout",
     "output_type": "stream",
     "text": [
      "313/313 [==============================] - 1s 3ms/step - loss: 2.2784 - accuracy: 0.4975\n"
     ]
    },
    {
     "data": {
      "text/plain": [
       "[2.2783970832824707, 0.4975000023841858]"
      ]
     },
     "execution_count": 45,
     "metadata": {},
     "output_type": "execute_result"
    }
   ],
   "source": [
    "lenet5cifar10model.evaluate(x_test,y_test)"
   ]
  },
  {
   "cell_type": "markdown",
   "metadata": {
    "id": "e0BMF8QviXgo"
   },
   "source": [
    "Testing Accuracy = 49.75%"
   ]
  },
  {
   "cell_type": "code",
   "execution_count": 28,
   "metadata": {
    "colab": {
     "base_uri": "https://localhost:8080/"
    },
    "id": "d5a-VCXFKTHy",
    "outputId": "e73d2485-82d3-4599-f5f9-03f2342646bb"
   },
   "outputs": [
    {
     "data": {
      "text/plain": [
       "array([[7.15701431e-02, 1.16217406e-02, 4.10088226e-02, ...,\n",
       "        1.12924865e-02, 4.78742905e-02, 2.15993933e-02],\n",
       "       [2.72238068e-02, 4.44986790e-01, 2.61230336e-04, ...,\n",
       "        1.61828375e-05, 4.71624613e-01, 5.54063693e-02],\n",
       "       [1.27683282e-02, 6.63994849e-02, 7.52096646e-04, ...,\n",
       "        7.13918198e-05, 8.80225599e-01, 3.79514284e-02],\n",
       "       ...,\n",
       "       [1.16090970e-02, 2.24852556e-04, 1.19801395e-01, ...,\n",
       "        3.64751406e-02, 1.06112203e-02, 1.78455212e-03],\n",
       "       [8.76838043e-02, 1.84335023e-01, 5.32812998e-02, ...,\n",
       "        5.85710742e-02, 1.19543239e-01, 2.94141900e-02],\n",
       "       [1.29867985e-03, 4.38923526e-05, 6.70546712e-03, ...,\n",
       "        3.65378112e-01, 7.35838476e-05, 3.94357776e-04]], dtype=float32)"
      ]
     },
     "execution_count": 28,
     "metadata": {},
     "output_type": "execute_result"
    }
   ],
   "source": [
    "y_pred_lenet5cifar10 = lenet5cifar10model.predict(x_test)\n",
    "y_pred_lenet5cifar10"
   ]
  },
  {
   "cell_type": "markdown",
   "metadata": {
    "id": "ThtclGpQjUes"
   },
   "source": [
    "**On MNIST**\n",
    "\n",
    "Lenet-5 gives better test accuracy (98.7%)\n",
    "\n",
    "CNN model gives better training accuracy (99.8%)"
   ]
  },
  {
   "cell_type": "markdown",
   "metadata": {
    "id": "ZdGTto3vMQWp"
   },
   "source": [
    "**On CIFAR-10 dataset**\n",
    "\n",
    "CNN Model gives better test accuracy (54.08%)\n",
    "\n",
    "Lenet-5 Architecture gives better training accuracy (84.77%)\n"
   ]
  }
 ],
 "metadata": {
  "accelerator": "GPU",
  "colab": {
   "collapsed_sections": [],
   "name": "Week3.ipynb",
   "provenance": []
  },
  "gpuClass": "standard",
  "kernelspec": {
   "display_name": "Python 3 (ipykernel)",
   "language": "python",
   "name": "python3"
  },
  "language_info": {
   "codemirror_mode": {
    "name": "ipython",
    "version": 3
   },
   "file_extension": ".py",
   "mimetype": "text/x-python",
   "name": "python",
   "nbconvert_exporter": "python",
   "pygments_lexer": "ipython3",
   "version": "3.9.7"
  }
 },
 "nbformat": 4,
 "nbformat_minor": 1
}
